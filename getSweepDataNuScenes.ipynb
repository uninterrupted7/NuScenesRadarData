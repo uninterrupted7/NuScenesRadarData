{
  "nbformat": 4,
  "nbformat_minor": 0,
  "metadata": {
    "colab": {
      "provenance": [],
      "collapsed_sections": [],
      "authorship_tag": "ABX9TyPgmk47Bl6eRxpVCTvPoRlN",
      "include_colab_link": true
    },
    "kernelspec": {
      "name": "python3",
      "display_name": "Python 3"
    },
    "language_info": {
      "name": "python"
    }
  },
  "cells": [
    {
      "cell_type": "markdown",
      "metadata": {
        "id": "view-in-github",
        "colab_type": "text"
      },
      "source": [
        "<a href=\"https://colab.research.google.com/github/uninterrupted7/NuScenesRadarData/blob/main/getSweepDataNuScenes.ipynb\" target=\"_parent\"><img src=\"https://colab.research.google.com/assets/colab-badge.svg\" alt=\"Open In Colab\"/></a>"
      ]
    },
    {
      "cell_type": "code",
      "execution_count": 2,
      "metadata": {
        "id": "YFfgLblLu67t"
      },
      "outputs": [],
      "source": [
        "!mkdir -p /content/data/sets/nuscenes  # Make the directory to store the nuScenes dataset in."
      ]
    },
    {
      "cell_type": "code",
      "source": [
        "!wget https://www.nuscenes.org/data/v1.0-mini.tgz  # Download the nuScenes mini split."
      ],
      "metadata": {
        "colab": {
          "base_uri": "https://localhost:8080/"
        },
        "id": "DmDvDpafxoQa",
        "outputId": "15055514-4d9b-4ae1-b67a-443e616f8815"
      },
      "execution_count": 3,
      "outputs": [
        {
          "output_type": "stream",
          "name": "stdout",
          "text": [
            "--2022-10-22 13:17:45--  https://www.nuscenes.org/data/v1.0-mini.tgz\n",
            "Resolving www.nuscenes.org (www.nuscenes.org)... 99.84.192.19, 99.84.192.111, 99.84.192.114, ...\n",
            "Connecting to www.nuscenes.org (www.nuscenes.org)|99.84.192.19|:443... connected.\n",
            "HTTP request sent, awaiting response... 200 OK\n",
            "Length: 4167696325 (3.9G) [application/x-tar]\n",
            "Saving to: ‘v1.0-mini.tgz’\n",
            "\n",
            "v1.0-mini.tgz       100%[===================>]   3.88G   162MB/s    in 27s     \n",
            "\n",
            "2022-10-22 13:18:12 (147 MB/s) - ‘v1.0-mini.tgz’ saved [4167696325/4167696325]\n",
            "\n"
          ]
        }
      ]
    },
    {
      "cell_type": "code",
      "source": [
        "!tar -xf /content/v1.0-mini.tgz -C /content/data/sets/nuscenes"
      ],
      "metadata": {
        "id": "LkrSkTd8xpgl"
      },
      "execution_count": 4,
      "outputs": []
    },
    {
      "cell_type": "code",
      "source": [
        "!pip install nuscenes-devkit &> /dev/null"
      ],
      "metadata": {
        "id": "2XFSc94IyQdI"
      },
      "execution_count": 5,
      "outputs": []
    },
    {
      "cell_type": "code",
      "source": [
        "%matplotlib inline\n",
        "from nuscenes.nuscenes import NuScenes\n",
        "\n",
        "nusc = NuScenes(version='v1.0-mini', dataroot='/content/data/sets/nuscenes', verbose=True)"
      ],
      "metadata": {
        "colab": {
          "base_uri": "https://localhost:8080/"
        },
        "id": "5wGHn_wUxrAX",
        "outputId": "4dcf4239-afb4-4320-ad54-8316f2ff99a5"
      },
      "execution_count": 6,
      "outputs": [
        {
          "output_type": "stream",
          "name": "stdout",
          "text": [
            "======\n",
            "Loading NuScenes tables for version v1.0-mini...\n",
            "23 category,\n",
            "8 attribute,\n",
            "4 visibility,\n",
            "911 instance,\n",
            "12 sensor,\n",
            "120 calibrated_sensor,\n",
            "31206 ego_pose,\n",
            "8 log,\n",
            "10 scene,\n",
            "404 sample,\n",
            "31206 sample_data,\n",
            "18538 sample_annotation,\n",
            "4 map,\n",
            "Done loading in 1.021 seconds.\n",
            "======\n",
            "Reverse indexing ...\n",
            "Done reverse indexing in 0.2 seconds.\n",
            "======\n"
          ]
        }
      ]
    },
    {
      "cell_type": "code",
      "source": [
        "len(nusc.sample_data)"
      ],
      "metadata": {
        "colab": {
          "base_uri": "https://localhost:8080/"
        },
        "id": "zAROgmp5x1Yz",
        "outputId": "00be4643-0b91-410e-a942-184b0704ab68"
      },
      "execution_count": 7,
      "outputs": [
        {
          "output_type": "execute_result",
          "data": {
            "text/plain": [
              "31206"
            ]
          },
          "metadata": {},
          "execution_count": 7
        }
      ]
    },
    {
      "cell_type": "code",
      "source": [
        "my_scene = nusc.scene[1]\n",
        "name_scene = my_scene['name']"
      ],
      "metadata": {
        "id": "0d5W0FUrx1lC"
      },
      "execution_count": 27,
      "outputs": []
    },
    {
      "cell_type": "code",
      "source": [
        "first_sample_token = my_scene['first_sample_token']"
      ],
      "metadata": {
        "id": "tOGet6IYygdx"
      },
      "execution_count": 8,
      "outputs": []
    },
    {
      "cell_type": "code",
      "source": [
        "i=0\n",
        "z=0\n",
        "\n",
        "first_token_list = []\n",
        "\n",
        "sensor_dict = {}\n",
        "\n",
        "while i < len(nusc.sample_data):\n",
        "\n",
        "  if(nusc.sample_data[i]['sample_token']==first_sample_token):\n",
        "    \n",
        "    first_data = nusc.sample_data[i]\n",
        "\n",
        "    first_token_list.append([z, first_data['channel'], first_data['token']])   # to store sensor and its first token\n",
        "    print(first_data)\n",
        "    sensor_dict[first_data['channel']] = first_data['token']\n",
        "    next_data = nusc.get('sample_data', first_data['next']) #magic\n",
        "    #print(next_data)\n",
        "    z+=1\n",
        "\n",
        "  #print(i)  \n",
        "  i+=1\n",
        "\n",
        "\n",
        "first_token_list\n",
        "sensor_dict"
      ],
      "metadata": {
        "colab": {
          "base_uri": "https://localhost:8080/"
        },
        "id": "gTJu7YuRynjG",
        "outputId": "7699a5bd-4862-4019-92d2-00d6607e430e"
      },
      "execution_count": 10,
      "outputs": [
        {
          "output_type": "stream",
          "name": "stdout",
          "text": [
            "{'token': '37091c75b9704e0daa829ba56dfa0906', 'sample_token': 'ca9a282c9e77460f8360f564131a8af5', 'ego_pose_token': '37091c75b9704e0daa829ba56dfa0906', 'calibrated_sensor_token': 'f4d2a6c281f34a7eb8bb033d82321f79', 'timestamp': 1532402927664178, 'fileformat': 'pcd', 'is_key_frame': True, 'height': 0, 'width': 0, 'filename': 'samples/RADAR_FRONT/n015-2018-07-24-11-22-45+0800__RADAR_FRONT__1532402927664178.pcd', 'prev': '', 'next': 'f0b8593e08594a3eb1152c138b312813', 'sensor_modality': 'radar', 'channel': 'RADAR_FRONT'}\n",
            "{'token': '11946c1461d14016a322916157da3c7d', 'sample_token': 'ca9a282c9e77460f8360f564131a8af5', 'ego_pose_token': '11946c1461d14016a322916157da3c7d', 'calibrated_sensor_token': '2ee327ac0903407dbb42c754861c1e63', 'timestamp': 1532402927652686, 'fileformat': 'pcd', 'is_key_frame': True, 'height': 0, 'width': 0, 'filename': 'samples/RADAR_FRONT_LEFT/n015-2018-07-24-11-22-45+0800__RADAR_FRONT_LEFT__1532402927652686.pcd', 'prev': '', 'next': 'e71dbf6026cd45178662958e95fd3736', 'sensor_modality': 'radar', 'channel': 'RADAR_FRONT_LEFT'}\n",
            "{'token': '491209956ee3435a9ec173dad3aaf58b', 'sample_token': 'ca9a282c9e77460f8360f564131a8af5', 'ego_pose_token': '491209956ee3435a9ec173dad3aaf58b', 'calibrated_sensor_token': '341ad78c836f4dc4bd2c61ad12285a63', 'timestamp': 1532402927639817, 'fileformat': 'pcd', 'is_key_frame': True, 'height': 0, 'width': 0, 'filename': 'samples/RADAR_FRONT_RIGHT/n015-2018-07-24-11-22-45+0800__RADAR_FRONT_RIGHT__1532402927639817.pcd', 'prev': '', 'next': '9d948d9d90d449ef83494a864d2e643f', 'sensor_modality': 'radar', 'channel': 'RADAR_FRONT_RIGHT'}\n",
            "{'token': '312aa38d0e3e4f01b3124c523e6f9776', 'sample_token': 'ca9a282c9e77460f8360f564131a8af5', 'ego_pose_token': '312aa38d0e3e4f01b3124c523e6f9776', 'calibrated_sensor_token': '794da4b758054140bd84d26b1146e46e', 'timestamp': 1532402927668356, 'fileformat': 'pcd', 'is_key_frame': True, 'height': 0, 'width': 0, 'filename': 'samples/RADAR_BACK_LEFT/n015-2018-07-24-11-22-45+0800__RADAR_BACK_LEFT__1532402927668356.pcd', 'prev': '', 'next': '066eb6ca4c6245f38300679537662761', 'sensor_modality': 'radar', 'channel': 'RADAR_BACK_LEFT'}\n",
            "{'token': '07b30d5eb6104e79be58eadf94382bc1', 'sample_token': 'ca9a282c9e77460f8360f564131a8af5', 'ego_pose_token': '07b30d5eb6104e79be58eadf94382bc1', 'calibrated_sensor_token': 'eff1fe2c0eaa44958bf11f7398e8293b', 'timestamp': 1532402927635538, 'fileformat': 'pcd', 'is_key_frame': True, 'height': 0, 'width': 0, 'filename': 'samples/RADAR_BACK_RIGHT/n015-2018-07-24-11-22-45+0800__RADAR_BACK_RIGHT__1532402927635538.pcd', 'prev': '', 'next': '1b2c8434a49741be98397fe26f3622e1', 'sensor_modality': 'radar', 'channel': 'RADAR_BACK_RIGHT'}\n",
            "{'token': '9d9bf11fb0e144c8b446d54a8a00184f', 'sample_token': 'ca9a282c9e77460f8360f564131a8af5', 'ego_pose_token': '9d9bf11fb0e144c8b446d54a8a00184f', 'calibrated_sensor_token': 'a183049901c24361a6b0b11b8013137c', 'timestamp': 1532402927647951, 'fileformat': 'pcd', 'is_key_frame': True, 'height': 0, 'width': 0, 'filename': 'samples/LIDAR_TOP/n015-2018-07-24-11-22-45+0800__LIDAR_TOP__1532402927647951.pcd.bin', 'prev': '', 'next': '0cedf1d2d652468d92d23491136b5d15', 'sensor_modality': 'lidar', 'channel': 'LIDAR_TOP'}\n",
            "{'token': 'e3d495d4ac534d54b321f50006683844', 'sample_token': 'ca9a282c9e77460f8360f564131a8af5', 'ego_pose_token': 'e3d495d4ac534d54b321f50006683844', 'calibrated_sensor_token': '1d31c729b073425e8e0202c5c6e66ee1', 'timestamp': 1532402927612460, 'fileformat': 'jpg', 'is_key_frame': True, 'height': 900, 'width': 1600, 'filename': 'samples/CAM_FRONT/n015-2018-07-24-11-22-45+0800__CAM_FRONT__1532402927612460.jpg', 'prev': '', 'next': '68e8e98cf7b0487baa139df808641db7', 'sensor_modality': 'camera', 'channel': 'CAM_FRONT'}\n",
            "{'token': 'aac7867ebf4f446395d29fbd60b63b3b', 'sample_token': 'ca9a282c9e77460f8360f564131a8af5', 'ego_pose_token': 'aac7867ebf4f446395d29fbd60b63b3b', 'calibrated_sensor_token': 'f8d0aaa1a8234ba3aeed5867e0aa81aa', 'timestamp': 1532402927620339, 'fileformat': 'jpg', 'is_key_frame': True, 'height': 900, 'width': 1600, 'filename': 'samples/CAM_FRONT_RIGHT/n015-2018-07-24-11-22-45+0800__CAM_FRONT_RIGHT__1532402927620339.jpg', 'prev': '', 'next': '8a3baa7b80da474b8e041fc4ad174436', 'sensor_modality': 'camera', 'channel': 'CAM_FRONT_RIGHT'}\n",
            "{'token': '79dbb4460a6b40f49f9c150cb118247e', 'sample_token': 'ca9a282c9e77460f8360f564131a8af5', 'ego_pose_token': '79dbb4460a6b40f49f9c150cb118247e', 'calibrated_sensor_token': '3b00acc55ed941fa9f405e0c1fd2b639', 'timestamp': 1532402927627893, 'fileformat': 'jpg', 'is_key_frame': True, 'height': 900, 'width': 1600, 'filename': 'samples/CAM_BACK_RIGHT/n015-2018-07-24-11-22-45+0800__CAM_BACK_RIGHT__1532402927627893.jpg', 'prev': '', 'next': '2ac174ca5ad44c2e820db85f6cf61a83', 'sensor_modality': 'camera', 'channel': 'CAM_BACK_RIGHT'}\n",
            "{'token': '03bea5763f0f4722933508d5999c5fd8', 'sample_token': 'ca9a282c9e77460f8360f564131a8af5', 'ego_pose_token': '03bea5763f0f4722933508d5999c5fd8', 'calibrated_sensor_token': '4ff47c4950f04cb4be1876bc0b028326', 'timestamp': 1532402927637525, 'fileformat': 'jpg', 'is_key_frame': True, 'height': 900, 'width': 1600, 'filename': 'samples/CAM_BACK/n015-2018-07-24-11-22-45+0800__CAM_BACK__1532402927637525.jpg', 'prev': '', 'next': '39c5557eadb443f2bfc8698605b1967a', 'sensor_modality': 'camera', 'channel': 'CAM_BACK'}\n",
            "{'token': '43893a033f9c46d4a51b5e08a67a1eb7', 'sample_token': 'ca9a282c9e77460f8360f564131a8af5', 'ego_pose_token': '43893a033f9c46d4a51b5e08a67a1eb7', 'calibrated_sensor_token': '3bc29be787ea4fc79144c4a46a3c91ca', 'timestamp': 1532402927647423, 'fileformat': 'jpg', 'is_key_frame': True, 'height': 900, 'width': 1600, 'filename': 'samples/CAM_BACK_LEFT/n015-2018-07-24-11-22-45+0800__CAM_BACK_LEFT__1532402927647423.jpg', 'prev': '', 'next': '63d992b6e037456c8062211c4d78bd22', 'sensor_modality': 'camera', 'channel': 'CAM_BACK_LEFT'}\n",
            "{'token': 'fe5422747a7d4268a4b07fc396707b23', 'sample_token': 'ca9a282c9e77460f8360f564131a8af5', 'ego_pose_token': 'fe5422747a7d4268a4b07fc396707b23', 'calibrated_sensor_token': '75ad8e2a8a3f4594a13db2398430d097', 'timestamp': 1532402927604844, 'fileformat': 'jpg', 'is_key_frame': True, 'height': 900, 'width': 1600, 'filename': 'samples/CAM_FRONT_LEFT/n015-2018-07-24-11-22-45+0800__CAM_FRONT_LEFT__1532402927604844.jpg', 'prev': '', 'next': '48f7a2e756264647bcf8870b02bf711f', 'sensor_modality': 'camera', 'channel': 'CAM_FRONT_LEFT'}\n"
          ]
        },
        {
          "output_type": "execute_result",
          "data": {
            "text/plain": [
              "{'RADAR_FRONT': '37091c75b9704e0daa829ba56dfa0906',\n",
              " 'RADAR_FRONT_LEFT': '11946c1461d14016a322916157da3c7d',\n",
              " 'RADAR_FRONT_RIGHT': '491209956ee3435a9ec173dad3aaf58b',\n",
              " 'RADAR_BACK_LEFT': '312aa38d0e3e4f01b3124c523e6f9776',\n",
              " 'RADAR_BACK_RIGHT': '07b30d5eb6104e79be58eadf94382bc1',\n",
              " 'LIDAR_TOP': '9d9bf11fb0e144c8b446d54a8a00184f',\n",
              " 'CAM_FRONT': 'e3d495d4ac534d54b321f50006683844',\n",
              " 'CAM_FRONT_RIGHT': 'aac7867ebf4f446395d29fbd60b63b3b',\n",
              " 'CAM_BACK_RIGHT': '79dbb4460a6b40f49f9c150cb118247e',\n",
              " 'CAM_BACK': '03bea5763f0f4722933508d5999c5fd8',\n",
              " 'CAM_BACK_LEFT': '43893a033f9c46d4a51b5e08a67a1eb7',\n",
              " 'CAM_FRONT_LEFT': 'fe5422747a7d4268a4b07fc396707b23'}"
            ]
          },
          "metadata": {},
          "execution_count": 10
        }
      ]
    },
    {
      "cell_type": "markdown",
      "source": [
        "Add annotations\n",
        "\n",
        "Add ego pos\n",
        "\n",
        "Add sensor calibrations\n",
        "\n"
      ],
      "metadata": {
        "id": "VQ7FNx8RIlb2"
      }
    },
    {
      "cell_type": "code",
      "source": [
        "from numpy.random.mtrand import zipf\n",
        "import pickle\n",
        "from nuscenes.utils.data_classes import RadarPointCloud\n",
        "import numpy as np\n",
        "\n",
        "front_radar_list = []\n",
        "front_radar_left_list = []\n",
        "front_radar_right_list = []\n",
        "back_radar_right_list = []\n",
        "back_radar_left_list = []\n",
        "\n",
        "\n",
        "radar_front       = 'RADAR_FRONT'\n",
        "radar_back_left   = 'RADAR_BACK_LEFT' \n",
        "radar_back_right  = 'RADAR_BACK_RIGHT'\n",
        "radar_front_left  = 'RADAR_FRONT_LEFT'\n",
        "radar_front_right = 'RADAR_FRONT_RIGHT'\n",
        "\n",
        "\n",
        "radar_front_data        = nusc.get('sample_data', sensor_dict[radar_front])\n",
        "radar_front_right_data  = nusc.get('sample_data', sensor_dict[radar_front_right])\n",
        "radar_front_left_data   = nusc.get('sample_data', sensor_dict[radar_front_left])\n",
        "radar_back_right_data   = nusc.get('sample_data', sensor_dict[radar_back_right])\n",
        "radar_back_left_data    = nusc.get('sample_data', sensor_dict[radar_back_left])\n",
        "\n",
        "\n",
        "\n",
        "for j in range(len(nusc.sample_data)):\n",
        "  #print(next_data)\n",
        "  \n",
        "\n",
        "  \n",
        "  pc = RadarPointCloud.from_file(\"/content/data/sets/nuscenes/\" + radar_front_data['filename'])\n",
        "  data = pc.points.astype(dtype=np.float32)\n",
        "  front_radar_list.append(data)\n",
        "  radar_front_data = nusc.get('sample_data', radar_front_data['next'])\n",
        "\n",
        "  \n",
        "  pc = RadarPointCloud.from_file(\"/content/data/sets/nuscenes/\" + radar_front_right_data['filename'])\n",
        "  data = pc.points.astype(dtype=np.float32)\n",
        "  radar_front_right_data = nusc.get('sample_data', radar_front_right_data['next'])\n",
        "  front_radar_right_list.append(data)\n",
        "\n",
        "\n",
        "  pc = RadarPointCloud.from_file(\"/content/data/sets/nuscenes/\" + radar_front_left_data['filename'])\n",
        "  data = pc.points.astype(dtype=np.float32)\n",
        "  front_radar_left_list.append(data)\n",
        "  radar_front_left_data = nusc.get('sample_data', radar_front_left_data['next'])\n",
        "\n",
        "\n",
        "\n",
        "  pc = RadarPointCloud.from_file(\"/content/data/sets/nuscenes/\" + radar_back_right_data['filename'])\n",
        "  data = pc.points.astype(dtype=np.float32)\n",
        "  back_radar_right_list.append(data)\n",
        "  radar_back_right_data = nusc.get('sample_data', radar_back_right_data['next'])\n",
        "\n",
        "\n",
        "  \n",
        "  pc = RadarPointCloud.from_file(\"/content/data/sets/nuscenes/\" + radar_back_left_data['filename'])\n",
        "  data = pc.points.astype(dtype=np.float32)\n",
        "  back_radar_left_list.append(data)\n",
        "  radar_back_left_data = nusc.get('sample_data', radar_back_left_data['next'])\n",
        "\n",
        "\n",
        "  \n",
        "  \n",
        "  if (radar_front_data['next']=='' or radar_front_right_data['next']=='' or radar_front_left_data['next']=='' or radar_back_right_data['next']=='' or radar_back_left_data['next']==''):\n",
        "    break\n",
        "\n",
        "print(len(back_radar_right_list))\n",
        "print(len(back_radar_left_list))\n",
        "print(len(front_radar_left_list))\n",
        "print(len(front_radar_right_list))\n",
        "print(len(front_radar_list))\n",
        "\n",
        "front_radar_list[0]"
      ],
      "metadata": {
        "colab": {
          "base_uri": "https://localhost:8080/"
        },
        "id": "sdplcmNj8F7Q",
        "outputId": "8313e7af-213e-4b56-afc4-fc0f5ea82e7d"
      },
      "execution_count": 25,
      "outputs": [
        {
          "output_type": "stream",
          "name": "stdout",
          "text": [
            "242\n",
            "242\n",
            "242\n",
            "242\n",
            "242\n"
          ]
        },
        {
          "output_type": "execute_result",
          "data": {
            "text/plain": [
              "array([[  8.2,   9.6,  10.8, ...,  75.8,  81.2,  80.4],\n",
              "       [  5.3,   4.3,   4.5, ...,   9.5,   8.5, -21.9],\n",
              "       [  0. ,   0. ,   0. , ...,   0. ,   0. ,   0. ],\n",
              "       ...,\n",
              "       [  1. ,   1. ,   1. , ...,   1. ,   1. ,   1. ],\n",
              "       [ 17. ,  16. ,  16. , ...,  16. ,  16. ,  16. ],\n",
              "       [  3. ,   3. ,   3. , ...,   3. ,   3. ,   3. ]], dtype=float32)"
            ]
          },
          "metadata": {},
          "execution_count": 25
        }
      ]
    },
    {
      "cell_type": "code",
      "source": [
        "with open('front_radar_sweeps_'+name_scene+'.pkl', 'wb') as f_rF:\n",
        "  pickle.dump(front_radar_list, f_rF, protocol=2)\n",
        "\n",
        "with open('front_radar_left_sweeps_'+name_scene+'.pkl', 'wb') as f_rFL:\n",
        "  pickle.dump(front_radar_left_list, f_rFL, protocol=2)\n",
        "\n",
        "with open('front_radar_right_sweeps_'+name_scene+'.pkl', 'wb') as f_rFR:\n",
        "  pickle.dump(front_radar_right_list, f_rFR, protocol=2)\n",
        "\n",
        "with open('back_radar_right_sweeps_'+name_scene+'.pkl', 'wb') as f_rBR:\n",
        "  pickle.dump(back_radar_left_list, f_rBR, protocol=2)\n",
        "\n",
        "with open('back_radar_left_sweeps_'+name_scene+'.pkl', 'wb') as f_rBL:\n",
        "  pickle.dump(back_radar_right_list, f_rBL, protocol=2)\n"
      ],
      "metadata": {
        "id": "hVT6IvhW6kNJ"
      },
      "execution_count": 28,
      "outputs": []
    },
    {
      "cell_type": "code",
      "source": [
        "#to get annotations\n",
        "\n",
        "s1 = nusc.get('sample', radar_front_left_data['sample_token'])\n",
        "anns = s1['anns']\n",
        "my_annotation_metadata =  nusc.get('sample_annotation', anns[0])\n",
        "my_annotation_metadata"
      ],
      "metadata": {
        "colab": {
          "base_uri": "https://localhost:8080/"
        },
        "id": "Z9CVrrSm1JUd",
        "outputId": "25a4ff9d-21cc-4b28-b6f7-debccfe3f835"
      },
      "execution_count": 57,
      "outputs": [
        {
          "output_type": "execute_result",
          "data": {
            "text/plain": [
              "{'token': '3b24f083c0bf42d695a1040efdab7ffe',\n",
              " 'sample_token': '67e5f88901214f3aa03d68e028185e22',\n",
              " 'instance_token': '6dd2cbf4c24b4caeb625035869bca7b5',\n",
              " 'visibility_token': '1',\n",
              " 'attribute_tokens': ['4d8821270b4a47e3a8a300cbec48188e'],\n",
              " 'translation': [373.337, 1130.661, 1.095],\n",
              " 'size': [0.621, 0.669, 1.642],\n",
              " 'rotation': [0.9831098797903927, 0.0, 0.0, -0.18301629506281616],\n",
              " 'prev': '794fcc425f074a1392206ed925fdbbd8',\n",
              " 'next': '93d5b79041c64693a5b32f1103a39a06',\n",
              " 'num_lidar_pts': 0,\n",
              " 'num_radar_pts': 0,\n",
              " 'category_name': 'human.pedestrian.adult'}"
            ]
          },
          "metadata": {},
          "execution_count": 57
        }
      ]
    },
    {
      "cell_type": "code",
      "source": [
        "print(nusc.sample_data[0])\n",
        "print(nusc.sample_data[1])\n",
        "print(nusc.sample_data[2])\n",
        "print(nusc.sample_data[3])\n",
        "print(nusc.get('sample', nusc.sample_data[0]['sample_token']))\n",
        "print(nusc.get('sample', nusc.sample_data[1]['sample_token']))\n",
        "print(nusc.get('sample', nusc.sample_data[2]['sample_token']))\n",
        "print(nusc.get('sample', nusc.sample_data[3]['sample_token']))"
      ],
      "metadata": {
        "colab": {
          "base_uri": "https://localhost:8080/"
        },
        "id": "sKHcGbBLMA1M",
        "outputId": "70d2f413-3600-4f5d-85d8-8f2904aafc65"
      },
      "execution_count": 48,
      "outputs": [
        {
          "output_type": "stream",
          "name": "stdout",
          "text": [
            "{'token': '5ace90b379af485b9dcb1584b01e7212', 'sample_token': '39586f9d59004284a7114a68825e8eec', 'ego_pose_token': '5ace90b379af485b9dcb1584b01e7212', 'calibrated_sensor_token': 'f4d2a6c281f34a7eb8bb033d82321f79', 'timestamp': 1532402927814384, 'fileformat': 'pcd', 'is_key_frame': False, 'height': 0, 'width': 0, 'filename': 'sweeps/RADAR_FRONT/n015-2018-07-24-11-22-45+0800__RADAR_FRONT__1532402927814384.pcd', 'prev': 'f0b8593e08594a3eb1152c138b312813', 'next': '978db2bcdf584b799c13594a348576d2', 'sensor_modality': 'radar', 'channel': 'RADAR_FRONT'}\n",
            "{'token': '37091c75b9704e0daa829ba56dfa0906', 'sample_token': 'ca9a282c9e77460f8360f564131a8af5', 'ego_pose_token': '37091c75b9704e0daa829ba56dfa0906', 'calibrated_sensor_token': 'f4d2a6c281f34a7eb8bb033d82321f79', 'timestamp': 1532402927664178, 'fileformat': 'pcd', 'is_key_frame': True, 'height': 0, 'width': 0, 'filename': 'samples/RADAR_FRONT/n015-2018-07-24-11-22-45+0800__RADAR_FRONT__1532402927664178.pcd', 'prev': '', 'next': 'f0b8593e08594a3eb1152c138b312813', 'sensor_modality': 'radar', 'channel': 'RADAR_FRONT'}\n",
            "{'token': 'f2ac08983fd449ec89c67a4b6a5c41e3', 'sample_token': '39586f9d59004284a7114a68825e8eec', 'ego_pose_token': 'f2ac08983fd449ec89c67a4b6a5c41e3', 'calibrated_sensor_token': 'f4d2a6c281f34a7eb8bb033d82321f79', 'timestamp': 1532402928039752, 'fileformat': 'pcd', 'is_key_frame': False, 'height': 0, 'width': 0, 'filename': 'sweeps/RADAR_FRONT/n015-2018-07-24-11-22-45+0800__RADAR_FRONT__1532402928039752.pcd', 'prev': '0106d9fcbd6740f39d86d4fc41c3ed99', 'next': 'b70cefb08263499eb30c7e7da0031428', 'sensor_modality': 'radar', 'channel': 'RADAR_FRONT'}\n",
            "{'token': '0106d9fcbd6740f39d86d4fc41c3ed99', 'sample_token': '39586f9d59004284a7114a68825e8eec', 'ego_pose_token': '0106d9fcbd6740f39d86d4fc41c3ed99', 'calibrated_sensor_token': 'f4d2a6c281f34a7eb8bb033d82321f79', 'timestamp': 1532402927964162, 'fileformat': 'pcd', 'is_key_frame': False, 'height': 0, 'width': 0, 'filename': 'sweeps/RADAR_FRONT/n015-2018-07-24-11-22-45+0800__RADAR_FRONT__1532402927964162.pcd', 'prev': '978db2bcdf584b799c13594a348576d2', 'next': 'f2ac08983fd449ec89c67a4b6a5c41e3', 'sensor_modality': 'radar', 'channel': 'RADAR_FRONT'}\n",
            "{'token': '39586f9d59004284a7114a68825e8eec', 'timestamp': 1532402928147847, 'prev': 'ca9a282c9e77460f8360f564131a8af5', 'next': '356d81f38dd9473ba590f39e266f54e5', 'scene_token': 'cc8c0bf57f984915a77078b10eb33198', 'data': {'RADAR_FRONT': 'b70cefb08263499eb30c7e7da0031428', 'RADAR_FRONT_LEFT': 'b5cd02b25f0944f19c0d123fa1fc54ec', 'RADAR_FRONT_RIGHT': '9b628ce4952a4a839962b77a76630e23', 'RADAR_BACK_LEFT': '28b610ada2b545d1a5a1bf9d08af0285', 'RADAR_BACK_RIGHT': '07a62118eb3b43ffa1d833f250ff6f80', 'LIDAR_TOP': '4f792c8da81e4cb7aca1790654da1c27', 'CAM_FRONT': '4b6870ae200c4b969b91c50a9737f712', 'CAM_FRONT_RIGHT': '5c026763ad8146e89c6ee53da26331dc', 'CAM_BACK_RIGHT': 'c339f7629fdf4c219e30ca1790b53773', 'CAM_BACK': '661d9842bbb44b208f867f2061c4f535', 'CAM_BACK_LEFT': '9320f00a62c24b80972048de7a742b4c', 'CAM_FRONT_LEFT': '2b9d52c5c777455eb31831860c6fc117'}, 'anns': ['7987617983634b119e383d8a29607fd7', '216bbbd8e01c450a8fabe9d47433c10a', 'f0cbd9dbafd74e20bcf6dd0357c97f59', 'fa50c062687e4464a61a8b0573a10c22', 'e958e94168224872a04b92c4a01b8969', '86214ec54d034a839ee1f400719d49b2', 'b343000164024be9b8572a618e355f1b', '8161dbd026154299827eb67bf053ecc3', '75ac043ddcec4ae0851ddc55dc8daaa3', 'aeb21de4f59a4691824913ed70503382', 'd30007cfae714a6d8ef0cf2dd2c6f11f', '92ccde9818424044a35666b849d69604', 'f7bd5e1eb03d42129d3028556126550c', '3d21c6f374b045b38199753eefb4b4c9', '8746d5fa037546f7b9e828136d5b3f93', 'b513ebe5caff4775a0dfacc7e3a5444e', '91e697e7cef44ceea98e0e9b936dd6d1', 'a286c9633fa34da5b978758f348996b0', 'e8d06e222fcf4d73a489b47372395c77', 'f3721bdfd7ee4fd2a4f94874286df471', '7e077a909fda478caedde939b6114202', 'c7b83d36eeee4fa4bfd1f565aaa8acdb', 'ccc807889c0447aca7506483a5039e3f', '33e241c339a64d8d9154f2e2e895a6a5', 'bc1d4ea644d1481e9ec4294194d8b36e', '596a48b4ae9a4e39abf73a769ecd57b6', '0d5ecc64875b4c449644820e90cf370c', '0b0faa191f5e4ca493a0138c9c638a10', '91937fcf68224fbd97ec4de10ec4e447', '0c2e8cc786ef466aa57220124064f9bc', '7788c8da648a4cacbc1162170b60d251', 'a54c5f88cde94ec7b85c805d7508977e', '8cd7a57d01fd414ebd876b941385412f', '207b68a889234a67a3e7293577a92c6f', 'a585b19590f24cfda029e0146939e59d', '87d1cd0a2e2f4df98c6284a82db7a825', 'c0e4421e1f0d461888fae1ca02b282a5', '148b3b0a63434e8d8dd0c2b56dcc4fa5', '7eec555789624d289c858d00bbd2e536', 'daaf3497584b483d9ece486193d19253', 'bb732bdb7db44e988f601e86a507bad9', '4784de4304d2419dbddb9aba2748fa69', '9068983ddd8d4350b100b9aeca46513e', '6bd43869a39842d5860364b5274d011f', 'ce7bc7f5f1204c0bafcb7d324fb1010e', '56d7672e42344cffacac1f63eac22399', '787ce4c9d8e840d399c390e259fa62d4', 'd665640e61b44fd3b8eb0f5bf22500d0', '4fb160492de64e00b76f4e316c19cb1c', '0987293d3d1442ac90a734bd46ab5806', 'fff98c3617674b27b0a3de1e4c349f38', 'defab169e0ef44968e7be7a1eb8206f6', '94c8df8118124c4eab2bcd174b067361', '20ab41cb3717401c9110337f6df5b503', '4d0ee98ebc4f42bbbf5e56f9060f27cf', 'bc6607bc76414e45bbfd3c4d7e0f9b75', '5a8d17e460b845f09c234825f6105f72', '77683fc2daa343d4b4c53271d955c70b', 'e19bcee3376d4eb290f535351fba9584', '439996c12d594d84a1b941e80ba5a5a4', '51f9796d6dc845568604e234e18b1d5f', 'bc306bd900d348429ff25d2cfde3e32d', '44e1ff031bfb4079969d37f3985d58e1', 'c558f6c905f14aaf834040c49ab65be9', '1801e160a84945a98351291cbeabfb1a', '4c11366a4a34421ea93e64e921c694dd', '9ed7c37eeefb4fa7be2caadff3b7e778', '0e2f39f80e3647fdbd27fa0bcea8be40', 'f81a1d5a7dc449c4aa2e385265ba87d6', 'ae589a5a2bdb4813ae8021cd51b7e6eb', 'efd7920348664b34a0b213698e480e21', '48474dd075e6454b8fa25682b3133f10', 'c2fc09130a1d43a4a04a29a48fdebe2c', '12dbd66c80ab4335ba0c97f7b4839952', 'cca7cd489fdf47dc9419a8bd27a09af4', '84895462e744418abedd7cfef913c09f', '99f1a004b89d4d129be1aa441f706c84', 'c5774936c46742ce9ef427016bc3ac6e']}\n",
            "{'token': 'ca9a282c9e77460f8360f564131a8af5', 'timestamp': 1532402927647951, 'prev': '', 'next': '39586f9d59004284a7114a68825e8eec', 'scene_token': 'cc8c0bf57f984915a77078b10eb33198', 'data': {'RADAR_FRONT': '37091c75b9704e0daa829ba56dfa0906', 'RADAR_FRONT_LEFT': '11946c1461d14016a322916157da3c7d', 'RADAR_FRONT_RIGHT': '491209956ee3435a9ec173dad3aaf58b', 'RADAR_BACK_LEFT': '312aa38d0e3e4f01b3124c523e6f9776', 'RADAR_BACK_RIGHT': '07b30d5eb6104e79be58eadf94382bc1', 'LIDAR_TOP': '9d9bf11fb0e144c8b446d54a8a00184f', 'CAM_FRONT': 'e3d495d4ac534d54b321f50006683844', 'CAM_FRONT_RIGHT': 'aac7867ebf4f446395d29fbd60b63b3b', 'CAM_BACK_RIGHT': '79dbb4460a6b40f49f9c150cb118247e', 'CAM_BACK': '03bea5763f0f4722933508d5999c5fd8', 'CAM_BACK_LEFT': '43893a033f9c46d4a51b5e08a67a1eb7', 'CAM_FRONT_LEFT': 'fe5422747a7d4268a4b07fc396707b23'}, 'anns': ['ef63a697930c4b20a6b9791f423351da', '6b89da9bf1f84fd6a5fbe1c3b236f809', '924ee6ac1fed440a9d9e3720aac635a0', '91e3608f55174a319246f361690906ba', 'cd051723ed9c40f692b9266359f547af', '36d52dfedd764b27863375543c965376', '70af124fceeb433ea73a79537e4bea9e', '63b89fe17f3e41ecbe28337e0e35db8e', 'e4a3582721c34f528e3367f0bda9485d', 'fcb2332977ed4203aa4b7e04a538e309', 'a0cac1c12246451684116067ae2611f6', '02248ff567e3497c957c369dc9a1bd5c', '9db977e264964c2887db1e37113cddaa', 'ca9c5dd6cf374aa980fdd81022f016fd', '179b8b54ee74425893387ebc09ee133d', '5b990ac640bf498ca7fd55eaf85d3e12', '16140fbf143d4e26a4a7613cbd3aa0e8', '54939f11a73d4398b14aeef500bf0c23', '83d881a6b3d94ef3a3bc3b585cc514f8', '74986f1604f047b6925d409915265bf7', 'e86330c5538c4858b8d3ffe874556cc5', 'a7bd5bb89e27455bbb3dba89a576b6a1', 'fbd9d8c939b24f0eb6496243a41e8c41', '198023a1fb5343a5b6fad033ab8b7057', 'ffeafb90ecd5429cba23d0be9a5b54ee', 'cc636a58e27e446cbdd030c14f3718fd', '076a7e3ec6244d3b84e7df5ebcbac637', '0603fbaef1234c6c86424b163d2e3141', 'd76bd5dcc62f4c57b9cece1c7bcfabc5', '5acb6c71bcd64aa188804411b28c4c8f', '49b74a5f193c4759b203123b58ca176d', '77519174b48f4853a895f58bb8f98661', 'c5e9455e98bb42c0af7d1990db1df0c9', 'fcc5b4b5c4724179ab24962a39ca6d65', '791d1ca7e228433fa50b01778c32449a', '316d20eb238c43ef9ee195642dd6e3fe', 'cda0a9085607438c9b1ea87f4360dd64', 'e865152aaa194f22b97ad0078c012b21', '7962506dbc24423aa540a5e4c7083dad', '29cca6a580924b72a90b9dd6e7710d3e', 'a6f7d4bb60374f868144c5ba4431bf4c', 'f1ae3f713ba946069fa084a6b8626fbf', 'd7af8ede316546f68d4ab4f3dbf03f88', '91cb8f15ed4444e99470d43515e50c1d', 'bc638d33e89848f58c0b3ccf3900c8bb', '26fb370c13f844de9d1830f6176ebab6', '7e66fdf908d84237943c833e6c1b317a', '67c5dbb3ddcc4aff8ec5140930723c37', 'eaf2532c820740ae905bb7ed78fb1037', '3e2d17fa9aa5484d9cabc1dfca532193', 'de6bd5ffbed24aa59c8891f8d9c32c44', '9d51d699f635478fbbcd82a70396dd62', 'b7cbc6d0e80e4dfda7164871ece6cb71', '563a3f547bd64a2f9969278c5ef447fd', 'df8917888b81424f8c0670939e61d885', 'bb3ef5ced8854640910132b11b597348', 'a522ce1d7f6545d7955779f25d01783b', '1fafb2468af5481ca9967407af219c32', '05de82bdb8484623906bb9d97ae87542', 'bfedb0d85e164b7697d1e72dd971fb72', 'ca0f85b4f0d44beb9b7ff87b1ab37ff5', 'bca4bbfdef3d4de980842f28be80b3ca', 'a834fb0389a8453c810c3330e3503e16', '6c804cb7d78943b195045082c5c2d7fa', 'adf1594def9e4722b952fea33b307937', '49f76277d07541c5a584aa14c9d28754', '15a3b4d60b514db5a3468e2aef72a90c', '18cc2837f2b9457c80af0761a0b83ccc', '2bfcc693ae9946daba1d9f2724478fd4']}\n",
            "{'token': '39586f9d59004284a7114a68825e8eec', 'timestamp': 1532402928147847, 'prev': 'ca9a282c9e77460f8360f564131a8af5', 'next': '356d81f38dd9473ba590f39e266f54e5', 'scene_token': 'cc8c0bf57f984915a77078b10eb33198', 'data': {'RADAR_FRONT': 'b70cefb08263499eb30c7e7da0031428', 'RADAR_FRONT_LEFT': 'b5cd02b25f0944f19c0d123fa1fc54ec', 'RADAR_FRONT_RIGHT': '9b628ce4952a4a839962b77a76630e23', 'RADAR_BACK_LEFT': '28b610ada2b545d1a5a1bf9d08af0285', 'RADAR_BACK_RIGHT': '07a62118eb3b43ffa1d833f250ff6f80', 'LIDAR_TOP': '4f792c8da81e4cb7aca1790654da1c27', 'CAM_FRONT': '4b6870ae200c4b969b91c50a9737f712', 'CAM_FRONT_RIGHT': '5c026763ad8146e89c6ee53da26331dc', 'CAM_BACK_RIGHT': 'c339f7629fdf4c219e30ca1790b53773', 'CAM_BACK': '661d9842bbb44b208f867f2061c4f535', 'CAM_BACK_LEFT': '9320f00a62c24b80972048de7a742b4c', 'CAM_FRONT_LEFT': '2b9d52c5c777455eb31831860c6fc117'}, 'anns': ['7987617983634b119e383d8a29607fd7', '216bbbd8e01c450a8fabe9d47433c10a', 'f0cbd9dbafd74e20bcf6dd0357c97f59', 'fa50c062687e4464a61a8b0573a10c22', 'e958e94168224872a04b92c4a01b8969', '86214ec54d034a839ee1f400719d49b2', 'b343000164024be9b8572a618e355f1b', '8161dbd026154299827eb67bf053ecc3', '75ac043ddcec4ae0851ddc55dc8daaa3', 'aeb21de4f59a4691824913ed70503382', 'd30007cfae714a6d8ef0cf2dd2c6f11f', '92ccde9818424044a35666b849d69604', 'f7bd5e1eb03d42129d3028556126550c', '3d21c6f374b045b38199753eefb4b4c9', '8746d5fa037546f7b9e828136d5b3f93', 'b513ebe5caff4775a0dfacc7e3a5444e', '91e697e7cef44ceea98e0e9b936dd6d1', 'a286c9633fa34da5b978758f348996b0', 'e8d06e222fcf4d73a489b47372395c77', 'f3721bdfd7ee4fd2a4f94874286df471', '7e077a909fda478caedde939b6114202', 'c7b83d36eeee4fa4bfd1f565aaa8acdb', 'ccc807889c0447aca7506483a5039e3f', '33e241c339a64d8d9154f2e2e895a6a5', 'bc1d4ea644d1481e9ec4294194d8b36e', '596a48b4ae9a4e39abf73a769ecd57b6', '0d5ecc64875b4c449644820e90cf370c', '0b0faa191f5e4ca493a0138c9c638a10', '91937fcf68224fbd97ec4de10ec4e447', '0c2e8cc786ef466aa57220124064f9bc', '7788c8da648a4cacbc1162170b60d251', 'a54c5f88cde94ec7b85c805d7508977e', '8cd7a57d01fd414ebd876b941385412f', '207b68a889234a67a3e7293577a92c6f', 'a585b19590f24cfda029e0146939e59d', '87d1cd0a2e2f4df98c6284a82db7a825', 'c0e4421e1f0d461888fae1ca02b282a5', '148b3b0a63434e8d8dd0c2b56dcc4fa5', '7eec555789624d289c858d00bbd2e536', 'daaf3497584b483d9ece486193d19253', 'bb732bdb7db44e988f601e86a507bad9', '4784de4304d2419dbddb9aba2748fa69', '9068983ddd8d4350b100b9aeca46513e', '6bd43869a39842d5860364b5274d011f', 'ce7bc7f5f1204c0bafcb7d324fb1010e', '56d7672e42344cffacac1f63eac22399', '787ce4c9d8e840d399c390e259fa62d4', 'd665640e61b44fd3b8eb0f5bf22500d0', '4fb160492de64e00b76f4e316c19cb1c', '0987293d3d1442ac90a734bd46ab5806', 'fff98c3617674b27b0a3de1e4c349f38', 'defab169e0ef44968e7be7a1eb8206f6', '94c8df8118124c4eab2bcd174b067361', '20ab41cb3717401c9110337f6df5b503', '4d0ee98ebc4f42bbbf5e56f9060f27cf', 'bc6607bc76414e45bbfd3c4d7e0f9b75', '5a8d17e460b845f09c234825f6105f72', '77683fc2daa343d4b4c53271d955c70b', 'e19bcee3376d4eb290f535351fba9584', '439996c12d594d84a1b941e80ba5a5a4', '51f9796d6dc845568604e234e18b1d5f', 'bc306bd900d348429ff25d2cfde3e32d', '44e1ff031bfb4079969d37f3985d58e1', 'c558f6c905f14aaf834040c49ab65be9', '1801e160a84945a98351291cbeabfb1a', '4c11366a4a34421ea93e64e921c694dd', '9ed7c37eeefb4fa7be2caadff3b7e778', '0e2f39f80e3647fdbd27fa0bcea8be40', 'f81a1d5a7dc449c4aa2e385265ba87d6', 'ae589a5a2bdb4813ae8021cd51b7e6eb', 'efd7920348664b34a0b213698e480e21', '48474dd075e6454b8fa25682b3133f10', 'c2fc09130a1d43a4a04a29a48fdebe2c', '12dbd66c80ab4335ba0c97f7b4839952', 'cca7cd489fdf47dc9419a8bd27a09af4', '84895462e744418abedd7cfef913c09f', '99f1a004b89d4d129be1aa441f706c84', 'c5774936c46742ce9ef427016bc3ac6e']}\n",
            "{'token': '39586f9d59004284a7114a68825e8eec', 'timestamp': 1532402928147847, 'prev': 'ca9a282c9e77460f8360f564131a8af5', 'next': '356d81f38dd9473ba590f39e266f54e5', 'scene_token': 'cc8c0bf57f984915a77078b10eb33198', 'data': {'RADAR_FRONT': 'b70cefb08263499eb30c7e7da0031428', 'RADAR_FRONT_LEFT': 'b5cd02b25f0944f19c0d123fa1fc54ec', 'RADAR_FRONT_RIGHT': '9b628ce4952a4a839962b77a76630e23', 'RADAR_BACK_LEFT': '28b610ada2b545d1a5a1bf9d08af0285', 'RADAR_BACK_RIGHT': '07a62118eb3b43ffa1d833f250ff6f80', 'LIDAR_TOP': '4f792c8da81e4cb7aca1790654da1c27', 'CAM_FRONT': '4b6870ae200c4b969b91c50a9737f712', 'CAM_FRONT_RIGHT': '5c026763ad8146e89c6ee53da26331dc', 'CAM_BACK_RIGHT': 'c339f7629fdf4c219e30ca1790b53773', 'CAM_BACK': '661d9842bbb44b208f867f2061c4f535', 'CAM_BACK_LEFT': '9320f00a62c24b80972048de7a742b4c', 'CAM_FRONT_LEFT': '2b9d52c5c777455eb31831860c6fc117'}, 'anns': ['7987617983634b119e383d8a29607fd7', '216bbbd8e01c450a8fabe9d47433c10a', 'f0cbd9dbafd74e20bcf6dd0357c97f59', 'fa50c062687e4464a61a8b0573a10c22', 'e958e94168224872a04b92c4a01b8969', '86214ec54d034a839ee1f400719d49b2', 'b343000164024be9b8572a618e355f1b', '8161dbd026154299827eb67bf053ecc3', '75ac043ddcec4ae0851ddc55dc8daaa3', 'aeb21de4f59a4691824913ed70503382', 'd30007cfae714a6d8ef0cf2dd2c6f11f', '92ccde9818424044a35666b849d69604', 'f7bd5e1eb03d42129d3028556126550c', '3d21c6f374b045b38199753eefb4b4c9', '8746d5fa037546f7b9e828136d5b3f93', 'b513ebe5caff4775a0dfacc7e3a5444e', '91e697e7cef44ceea98e0e9b936dd6d1', 'a286c9633fa34da5b978758f348996b0', 'e8d06e222fcf4d73a489b47372395c77', 'f3721bdfd7ee4fd2a4f94874286df471', '7e077a909fda478caedde939b6114202', 'c7b83d36eeee4fa4bfd1f565aaa8acdb', 'ccc807889c0447aca7506483a5039e3f', '33e241c339a64d8d9154f2e2e895a6a5', 'bc1d4ea644d1481e9ec4294194d8b36e', '596a48b4ae9a4e39abf73a769ecd57b6', '0d5ecc64875b4c449644820e90cf370c', '0b0faa191f5e4ca493a0138c9c638a10', '91937fcf68224fbd97ec4de10ec4e447', '0c2e8cc786ef466aa57220124064f9bc', '7788c8da648a4cacbc1162170b60d251', 'a54c5f88cde94ec7b85c805d7508977e', '8cd7a57d01fd414ebd876b941385412f', '207b68a889234a67a3e7293577a92c6f', 'a585b19590f24cfda029e0146939e59d', '87d1cd0a2e2f4df98c6284a82db7a825', 'c0e4421e1f0d461888fae1ca02b282a5', '148b3b0a63434e8d8dd0c2b56dcc4fa5', '7eec555789624d289c858d00bbd2e536', 'daaf3497584b483d9ece486193d19253', 'bb732bdb7db44e988f601e86a507bad9', '4784de4304d2419dbddb9aba2748fa69', '9068983ddd8d4350b100b9aeca46513e', '6bd43869a39842d5860364b5274d011f', 'ce7bc7f5f1204c0bafcb7d324fb1010e', '56d7672e42344cffacac1f63eac22399', '787ce4c9d8e840d399c390e259fa62d4', 'd665640e61b44fd3b8eb0f5bf22500d0', '4fb160492de64e00b76f4e316c19cb1c', '0987293d3d1442ac90a734bd46ab5806', 'fff98c3617674b27b0a3de1e4c349f38', 'defab169e0ef44968e7be7a1eb8206f6', '94c8df8118124c4eab2bcd174b067361', '20ab41cb3717401c9110337f6df5b503', '4d0ee98ebc4f42bbbf5e56f9060f27cf', 'bc6607bc76414e45bbfd3c4d7e0f9b75', '5a8d17e460b845f09c234825f6105f72', '77683fc2daa343d4b4c53271d955c70b', 'e19bcee3376d4eb290f535351fba9584', '439996c12d594d84a1b941e80ba5a5a4', '51f9796d6dc845568604e234e18b1d5f', 'bc306bd900d348429ff25d2cfde3e32d', '44e1ff031bfb4079969d37f3985d58e1', 'c558f6c905f14aaf834040c49ab65be9', '1801e160a84945a98351291cbeabfb1a', '4c11366a4a34421ea93e64e921c694dd', '9ed7c37eeefb4fa7be2caadff3b7e778', '0e2f39f80e3647fdbd27fa0bcea8be40', 'f81a1d5a7dc449c4aa2e385265ba87d6', 'ae589a5a2bdb4813ae8021cd51b7e6eb', 'efd7920348664b34a0b213698e480e21', '48474dd075e6454b8fa25682b3133f10', 'c2fc09130a1d43a4a04a29a48fdebe2c', '12dbd66c80ab4335ba0c97f7b4839952', 'cca7cd489fdf47dc9419a8bd27a09af4', '84895462e744418abedd7cfef913c09f', '99f1a004b89d4d129be1aa441f706c84', 'c5774936c46742ce9ef427016bc3ac6e']}\n"
          ]
        }
      ]
    }
  ]
}